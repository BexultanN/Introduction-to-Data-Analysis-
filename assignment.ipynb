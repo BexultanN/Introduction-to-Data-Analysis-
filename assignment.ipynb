{
 "cells": [
  {
   "cell_type": "markdown",
   "metadata": {},
   "source": [
    "# Linear regression assignment"
   ]
  },
  {
   "cell_type": "markdown",
   "metadata": {},
   "source": [
    "Please construct a linear regression model for the following dataset:\n",
    "\n",
    "https://drive.google.com/file/d/1BCoufZfhyTwAtRcewaBPcEbBR4jPGT2C/view?usp=sharing\n",
    "\n",
    "- You shoud visualize the dataset with scatterlot and the resulting line.\n",
    "- send me .ipynb files.\n",
    "\n",
    "\n",
    "\n",
    "- btw: moodle was not working properly on Monday. I am extending the desdline of assignment."
   ]
  },
  {
   "cell_type": "code",
   "execution_count": 45,
   "metadata": {},
   "outputs": [],
   "source": [
    "import pandas as pd\n",
    "import numpy as np\n",
    "import matplotlib.pyplot as plt\n",
    "import seaborn as sns\n",
    "from sklearn.linear_model import LinearRegression\n",
    "from sklearn.model_selection import train_test_split, cross_val_score\n",
    "from sklearn import metrics\n",
    "from sklearn.metrics import r2_score"
   ]
  },
  {
   "cell_type": "code",
   "execution_count": 72,
   "metadata": {},
   "outputs": [
    {
     "data": {
      "text/html": [
       "<div>\n",
       "<style scoped>\n",
       "    .dataframe tbody tr th:only-of-type {\n",
       "        vertical-align: middle;\n",
       "    }\n",
       "\n",
       "    .dataframe tbody tr th {\n",
       "        vertical-align: top;\n",
       "    }\n",
       "\n",
       "    .dataframe thead th {\n",
       "        text-align: right;\n",
       "    }\n",
       "</style>\n",
       "<table border=\"1\" class=\"dataframe\">\n",
       "  <thead>\n",
       "    <tr style=\"text-align: right;\">\n",
       "      <th></th>\n",
       "      <th>population</th>\n",
       "      <th>profit</th>\n",
       "    </tr>\n",
       "  </thead>\n",
       "  <tbody>\n",
       "    <tr>\n",
       "      <th>0</th>\n",
       "      <td>6.1101</td>\n",
       "      <td>17.5920</td>\n",
       "    </tr>\n",
       "    <tr>\n",
       "      <th>1</th>\n",
       "      <td>5.5277</td>\n",
       "      <td>9.1302</td>\n",
       "    </tr>\n",
       "    <tr>\n",
       "      <th>2</th>\n",
       "      <td>8.5186</td>\n",
       "      <td>13.6620</td>\n",
       "    </tr>\n",
       "    <tr>\n",
       "      <th>3</th>\n",
       "      <td>7.0032</td>\n",
       "      <td>11.8540</td>\n",
       "    </tr>\n",
       "    <tr>\n",
       "      <th>4</th>\n",
       "      <td>5.8598</td>\n",
       "      <td>6.8233</td>\n",
       "    </tr>\n",
       "  </tbody>\n",
       "</table>\n",
       "</div>"
      ],
      "text/plain": [
       "   population   profit\n",
       "0      6.1101  17.5920\n",
       "1      5.5277   9.1302\n",
       "2      8.5186  13.6620\n",
       "3      7.0032  11.8540\n",
       "4      5.8598   6.8233"
      ]
     },
     "execution_count": 72,
     "metadata": {},
     "output_type": "execute_result"
    }
   ],
   "source": [
    "ex1 = pd.read_csv('ex1data1.txt', names = ['population', 'profit'])\n",
    "ex1.head()"
   ]
  },
  {
   "cell_type": "code",
   "execution_count": 73,
   "metadata": {},
   "outputs": [
    {
     "data": {
      "text/html": [
       "<div>\n",
       "<style scoped>\n",
       "    .dataframe tbody tr th:only-of-type {\n",
       "        vertical-align: middle;\n",
       "    }\n",
       "\n",
       "    .dataframe tbody tr th {\n",
       "        vertical-align: top;\n",
       "    }\n",
       "\n",
       "    .dataframe thead th {\n",
       "        text-align: right;\n",
       "    }\n",
       "</style>\n",
       "<table border=\"1\" class=\"dataframe\">\n",
       "  <thead>\n",
       "    <tr style=\"text-align: right;\">\n",
       "      <th></th>\n",
       "      <th>population</th>\n",
       "      <th>profit</th>\n",
       "    </tr>\n",
       "  </thead>\n",
       "  <tbody>\n",
       "    <tr>\n",
       "      <th>count</th>\n",
       "      <td>97.000000</td>\n",
       "      <td>97.000000</td>\n",
       "    </tr>\n",
       "    <tr>\n",
       "      <th>mean</th>\n",
       "      <td>8.159800</td>\n",
       "      <td>5.839135</td>\n",
       "    </tr>\n",
       "    <tr>\n",
       "      <th>std</th>\n",
       "      <td>3.869884</td>\n",
       "      <td>5.510262</td>\n",
       "    </tr>\n",
       "    <tr>\n",
       "      <th>min</th>\n",
       "      <td>5.026900</td>\n",
       "      <td>-2.680700</td>\n",
       "    </tr>\n",
       "    <tr>\n",
       "      <th>25%</th>\n",
       "      <td>5.707700</td>\n",
       "      <td>1.986900</td>\n",
       "    </tr>\n",
       "    <tr>\n",
       "      <th>50%</th>\n",
       "      <td>6.589400</td>\n",
       "      <td>4.562300</td>\n",
       "    </tr>\n",
       "    <tr>\n",
       "      <th>75%</th>\n",
       "      <td>8.578100</td>\n",
       "      <td>7.046700</td>\n",
       "    </tr>\n",
       "    <tr>\n",
       "      <th>max</th>\n",
       "      <td>22.203000</td>\n",
       "      <td>24.147000</td>\n",
       "    </tr>\n",
       "  </tbody>\n",
       "</table>\n",
       "</div>"
      ],
      "text/plain": [
       "       population     profit\n",
       "count   97.000000  97.000000\n",
       "mean     8.159800   5.839135\n",
       "std      3.869884   5.510262\n",
       "min      5.026900  -2.680700\n",
       "25%      5.707700   1.986900\n",
       "50%      6.589400   4.562300\n",
       "75%      8.578100   7.046700\n",
       "max     22.203000  24.147000"
      ]
     },
     "execution_count": 73,
     "metadata": {},
     "output_type": "execute_result"
    }
   ],
   "source": [
    "ex1.describe()"
   ]
  },
  {
   "cell_type": "code",
   "execution_count": 74,
   "metadata": {},
   "outputs": [
    {
     "data": {
      "text/html": [
       "<style>#sk-container-id-4 {color: black;background-color: white;}#sk-container-id-4 pre{padding: 0;}#sk-container-id-4 div.sk-toggleable {background-color: white;}#sk-container-id-4 label.sk-toggleable__label {cursor: pointer;display: block;width: 100%;margin-bottom: 0;padding: 0.3em;box-sizing: border-box;text-align: center;}#sk-container-id-4 label.sk-toggleable__label-arrow:before {content: \"▸\";float: left;margin-right: 0.25em;color: #696969;}#sk-container-id-4 label.sk-toggleable__label-arrow:hover:before {color: black;}#sk-container-id-4 div.sk-estimator:hover label.sk-toggleable__label-arrow:before {color: black;}#sk-container-id-4 div.sk-toggleable__content {max-height: 0;max-width: 0;overflow: hidden;text-align: left;background-color: #f0f8ff;}#sk-container-id-4 div.sk-toggleable__content pre {margin: 0.2em;color: black;border-radius: 0.25em;background-color: #f0f8ff;}#sk-container-id-4 input.sk-toggleable__control:checked~div.sk-toggleable__content {max-height: 200px;max-width: 100%;overflow: auto;}#sk-container-id-4 input.sk-toggleable__control:checked~label.sk-toggleable__label-arrow:before {content: \"▾\";}#sk-container-id-4 div.sk-estimator input.sk-toggleable__control:checked~label.sk-toggleable__label {background-color: #d4ebff;}#sk-container-id-4 div.sk-label input.sk-toggleable__control:checked~label.sk-toggleable__label {background-color: #d4ebff;}#sk-container-id-4 input.sk-hidden--visually {border: 0;clip: rect(1px 1px 1px 1px);clip: rect(1px, 1px, 1px, 1px);height: 1px;margin: -1px;overflow: hidden;padding: 0;position: absolute;width: 1px;}#sk-container-id-4 div.sk-estimator {font-family: monospace;background-color: #f0f8ff;border: 1px dotted black;border-radius: 0.25em;box-sizing: border-box;margin-bottom: 0.5em;}#sk-container-id-4 div.sk-estimator:hover {background-color: #d4ebff;}#sk-container-id-4 div.sk-parallel-item::after {content: \"\";width: 100%;border-bottom: 1px solid gray;flex-grow: 1;}#sk-container-id-4 div.sk-label:hover label.sk-toggleable__label {background-color: #d4ebff;}#sk-container-id-4 div.sk-serial::before {content: \"\";position: absolute;border-left: 1px solid gray;box-sizing: border-box;top: 0;bottom: 0;left: 50%;z-index: 0;}#sk-container-id-4 div.sk-serial {display: flex;flex-direction: column;align-items: center;background-color: white;padding-right: 0.2em;padding-left: 0.2em;position: relative;}#sk-container-id-4 div.sk-item {position: relative;z-index: 1;}#sk-container-id-4 div.sk-parallel {display: flex;align-items: stretch;justify-content: center;background-color: white;position: relative;}#sk-container-id-4 div.sk-item::before, #sk-container-id-4 div.sk-parallel-item::before {content: \"\";position: absolute;border-left: 1px solid gray;box-sizing: border-box;top: 0;bottom: 0;left: 50%;z-index: -1;}#sk-container-id-4 div.sk-parallel-item {display: flex;flex-direction: column;z-index: 1;position: relative;background-color: white;}#sk-container-id-4 div.sk-parallel-item:first-child::after {align-self: flex-end;width: 50%;}#sk-container-id-4 div.sk-parallel-item:last-child::after {align-self: flex-start;width: 50%;}#sk-container-id-4 div.sk-parallel-item:only-child::after {width: 0;}#sk-container-id-4 div.sk-dashed-wrapped {border: 1px dashed gray;margin: 0 0.4em 0.5em 0.4em;box-sizing: border-box;padding-bottom: 0.4em;background-color: white;}#sk-container-id-4 div.sk-label label {font-family: monospace;font-weight: bold;display: inline-block;line-height: 1.2em;}#sk-container-id-4 div.sk-label-container {text-align: center;}#sk-container-id-4 div.sk-container {/* jupyter's `normalize.less` sets `[hidden] { display: none; }` but bootstrap.min.css set `[hidden] { display: none !important; }` so we also need the `!important` here to be able to override the default hidden behavior on the sphinx rendered scikit-learn.org. See: https://github.com/scikit-learn/scikit-learn/issues/21755 */display: inline-block !important;position: relative;}#sk-container-id-4 div.sk-text-repr-fallback {display: none;}</style><div id=\"sk-container-id-4\" class=\"sk-top-container\"><div class=\"sk-text-repr-fallback\"><pre>LinearRegression()</pre><b>In a Jupyter environment, please rerun this cell to show the HTML representation or trust the notebook. <br />On GitHub, the HTML representation is unable to render, please try loading this page with nbviewer.org.</b></div><div class=\"sk-container\" hidden><div class=\"sk-item\"><div class=\"sk-estimator sk-toggleable\"><input class=\"sk-toggleable__control sk-hidden--visually\" id=\"sk-estimator-id-4\" type=\"checkbox\" checked><label for=\"sk-estimator-id-4\" class=\"sk-toggleable__label sk-toggleable__label-arrow\">LinearRegression</label><div class=\"sk-toggleable__content\"><pre>LinearRegression()</pre></div></div></div></div></div>"
      ],
      "text/plain": [
       "LinearRegression()"
      ]
     },
     "execution_count": 74,
     "metadata": {},
     "output_type": "execute_result"
    }
   ],
   "source": [
    "y = ex1[['population']]\n",
    "X = ex1[['profit']]\n",
    "model_lr = LinearRegression().fit(X, y)\n",
    "model_lr"
   ]
  },
  {
   "cell_type": "code",
   "execution_count": 75,
   "metadata": {},
   "outputs": [
    {
     "data": {
      "text/plain": [
       "array([[0.58844238]])"
      ]
     },
     "execution_count": 75,
     "metadata": {},
     "output_type": "execute_result"
    }
   ],
   "source": [
    "model_lr.coef_"
   ]
  },
  {
   "cell_type": "code",
   "execution_count": 76,
   "metadata": {},
   "outputs": [
    {
     "data": {
      "text/plain": [
       "array([4.72380549])"
      ]
     },
     "execution_count": 76,
     "metadata": {},
     "output_type": "execute_result"
    }
   ],
   "source": [
    "model_lr.intercept_"
   ]
  },
  {
   "cell_type": "code",
   "execution_count": 77,
   "metadata": {},
   "outputs": [
    {
     "name": "stderr",
     "output_type": "stream",
     "text": [
      "c:\\Users\\Beksultan\\AppData\\Local\\Programs\\Python\\Python38\\lib\\site-packages\\sklearn\\base.py:493: FutureWarning: The feature names should match those that were passed during fit. Starting version 1.2, an error will be raised.\n",
      "Feature names unseen at fit time:\n",
      "- population\n",
      "Feature names seen at fit time, yet now missing:\n",
      "- profit\n",
      "\n",
      "  warnings.warn(message, FutureWarning)\n"
     ]
    },
    {
     "data": {
      "text/plain": [
       "array([[ 8.31924726],\n",
       "       [ 7.97653842],\n",
       "       [ 9.73651072],\n",
       "       [ 8.84478515],\n",
       "       [ 8.17196013],\n",
       "       [ 9.65665909],\n",
       "       [ 9.12323608],\n",
       "       [ 9.77152305],\n",
       "       [ 8.54056044],\n",
       "       [ 7.69814633],\n",
       "       [ 8.08422337],\n",
       "       [13.05850332],\n",
       "       [ 8.09793408],\n",
       "       [ 9.67166437],\n",
       "       [ 8.04303241],\n",
       "       [ 7.88927241],\n",
       "       [ 8.4694766 ],\n",
       "       [ 7.74257373],\n",
       "       [ 8.5072546 ],\n",
       "       [ 8.88456385],\n",
       "       [ 8.36573421],\n",
       "       [16.65153248],\n",
       "       [ 7.95441298],\n",
       "       [ 8.44635081],\n",
       "       [ 7.99842847],\n",
       "       [15.87184633],\n",
       "       [12.2723443 ],\n",
       "       [11.17136862],\n",
       "       [12.47712225],\n",
       "       [17.78899159],\n",
       "       [ 7.81454023],\n",
       "       [ 8.60128769],\n",
       "       [10.16583828],\n",
       "       [ 8.19079029],\n",
       "       [ 9.55556469],\n",
       "       [ 9.39215424],\n",
       "       [ 9.48777613],\n",
       "       [ 8.02278999],\n",
       "       [12.27705184],\n",
       "       [ 8.46241529],\n",
       "       [ 7.90545458],\n",
       "       [ 8.77376015],\n",
       "       [11.61328884],\n",
       "       [ 8.12129524],\n",
       "       [ 9.32819056],\n",
       "       [ 8.89768612],\n",
       "       [ 7.70732603],\n",
       "       [ 8.1375951 ],\n",
       "       [11.6085813 ],\n",
       "       [ 7.98471777],\n",
       "       [ 9.1607787 ],\n",
       "       [ 7.84708109],\n",
       "       [ 9.09234285],\n",
       "       [ 9.19779173],\n",
       "       [ 8.45029338],\n",
       "       [ 8.46565172],\n",
       "       [ 8.41581065],\n",
       "       [ 8.04244396],\n",
       "       [10.20232171],\n",
       "       [10.28670435],\n",
       "       [ 9.91704485],\n",
       "       [ 7.77152509],\n",
       "       [17.24527084],\n",
       "       [13.49630445],\n",
       "       [15.88008452],\n",
       "       [ 8.97130026],\n",
       "       [ 9.60499385],\n",
       "       [10.74710166],\n",
       "       [ 7.9598855 ],\n",
       "       [16.69331189],\n",
       "       [10.68825743],\n",
       "       [ 9.03973611],\n",
       "       [ 8.2581081 ],\n",
       "       [ 8.97583126],\n",
       "       [ 7.68184648],\n",
       "       [ 8.57686733],\n",
       "       [ 9.15983719],\n",
       "       [ 7.68749552],\n",
       "       [10.76946247],\n",
       "       [ 7.72939262],\n",
       "       [ 8.09510956],\n",
       "       [ 7.77687992],\n",
       "       [ 8.46376871],\n",
       "       [10.47212254],\n",
       "       [ 8.55803718],\n",
       "       [ 9.7356869 ],\n",
       "       [10.1258242 ],\n",
       "       [ 8.25563664],\n",
       "       [ 7.97224279],\n",
       "       [ 7.70097085],\n",
       "       [ 8.08245805],\n",
       "       [ 9.21750455],\n",
       "       [ 8.17837415],\n",
       "       [ 7.84572768],\n",
       "       [ 9.6039935 ],\n",
       "       [12.60540269],\n",
       "       [ 7.92310785]])"
      ]
     },
     "execution_count": 77,
     "metadata": {},
     "output_type": "execute_result"
    }
   ],
   "source": [
    "model_lr.predict(ex1[['population']])"
   ]
  },
  {
   "cell_type": "code",
   "execution_count": 78,
   "metadata": {},
   "outputs": [
    {
     "data": {
      "text/plain": [
       "array([[15.07568379],\n",
       "       [10.09640208],\n",
       "       [12.76310525],\n",
       "       [11.69920143],\n",
       "       [ 8.73892436],\n",
       "       [11.71803159],\n",
       "       [ 7.28252948],\n",
       "       [11.78511402],\n",
       "       [ 8.6067602 ],\n",
       "       [ 6.96965467],\n",
       "       [ 6.63753779],\n",
       "       [13.84760455],\n",
       "       [ 6.58040003],\n",
       "       [ 8.97577242],\n",
       "       [ 5.14523615],\n",
       "       [ 6.79094472],\n",
       "       [ 7.84537461],\n",
       "       [ 5.05378632],\n",
       "       [ 6.87267936],\n",
       "       [ 7.89509799],\n",
       "       [ 6.57069073],\n",
       "       [17.53243072],\n",
       "       [ 7.23233534],\n",
       "       [ 7.77635032],\n",
       "       [ 6.53767912],\n",
       "       [18.04496403],\n",
       "       [12.66836602],\n",
       "       [ 8.87038239],\n",
       "       [13.3692009 ],\n",
       "       [18.93292357],\n",
       "       [ 4.00590579],\n",
       "       [ 8.25245905],\n",
       "       [11.8639653 ],\n",
       "       [ 5.81212967],\n",
       "       [ 8.57374859],\n",
       "       [ 7.40845615],\n",
       "       [ 7.14606969],\n",
       "       [ 6.72027279],\n",
       "       [10.67707702],\n",
       "       [ 7.95870861],\n",
       "       [ 5.05131486],\n",
       "       [ 7.02549785],\n",
       "       [ 7.89280307],\n",
       "       [ 6.15995795],\n",
       "       [ 8.68508188],\n",
       "       [ 5.33949275],\n",
       "       [ 7.74469212],\n",
       "       [ 5.80889323],\n",
       "       [ 9.43387481],\n",
       "       [ 5.32278098],\n",
       "       [ 8.69602691],\n",
       "       [ 5.80630409],\n",
       "       [ 7.24734062],\n",
       "       [ 7.66489933],\n",
       "       [ 5.56133552],\n",
       "       [ 3.88757003],\n",
       "       [ 6.18055344],\n",
       "       [ 7.43311188],\n",
       "       [ 7.05544956],\n",
       "       [ 7.90969136],\n",
       "       [ 7.76569951],\n",
       "       [ 4.28671638],\n",
       "       [15.27398887],\n",
       "       [11.8168899 ],\n",
       "       [14.75910179],\n",
       "       [ 7.59846419],\n",
       "       [ 8.10393619],\n",
       "       [ 9.29918035],\n",
       "       [ 5.32242792],\n",
       "       [17.07638787],\n",
       "       [ 8.65454173],\n",
       "       [ 7.09281566],\n",
       "       [ 5.47607022],\n",
       "       [ 6.68985032],\n",
       "       [ 3.14636801],\n",
       "       [ 4.89844342],\n",
       "       [ 7.0096099 ],\n",
       "       [ 8.07875086],\n",
       "       [ 8.69732149],\n",
       "       [ 5.93458452],\n",
       "       [ 5.00598126],\n",
       "       [ 4.84397131],\n",
       "       [ 5.12312837],\n",
       "       [ 9.16272056],\n",
       "       [ 7.86820618],\n",
       "       [ 7.21968383],\n",
       "       [ 8.72409561],\n",
       "       [ 5.26926215],\n",
       "       [ 4.81324873],\n",
       "       [ 6.38403681],\n",
       "       [ 5.80954052],\n",
       "       [ 7.2516951 ],\n",
       "       [ 8.96229709],\n",
       "       [ 5.89298165],\n",
       "       [ 4.80885895],\n",
       "       [10.05221006],\n",
       "       [ 5.08690386]])"
      ]
     },
     "execution_count": 78,
     "metadata": {},
     "output_type": "execute_result"
    }
   ],
   "source": [
    "model_lr.predict(ex1[['profit']])"
   ]
  },
  {
   "cell_type": "code",
   "execution_count": 79,
   "metadata": {},
   "outputs": [
    {
     "name": "stderr",
     "output_type": "stream",
     "text": [
      "c:\\Users\\Beksultan\\AppData\\Local\\Programs\\Python\\Python38\\lib\\site-packages\\sklearn\\base.py:493: FutureWarning: The feature names should match those that were passed during fit. Starting version 1.2, an error will be raised.\n",
      "Feature names unseen at fit time:\n",
      "- population\n",
      "Feature names seen at fit time, yet now missing:\n",
      "- profit\n",
      "\n",
      "  warnings.warn(message, FutureWarning)\n"
     ]
    },
    {
     "data": {
      "text/plain": [
       "0.5044350699268638"
      ]
     },
     "execution_count": 79,
     "metadata": {},
     "output_type": "execute_result"
    }
   ],
   "source": [
    "r2_score(y_true = model_lr.predict(ex1[['profit']]),\n",
    "         y_pred = model_lr.predict(ex1[['population']]))"
   ]
  },
  {
   "cell_type": "code",
   "execution_count": 80,
   "metadata": {},
   "outputs": [
    {
     "data": {
      "text/plain": [
       "<AxesSubplot: xlabel='population', ylabel='profit'>"
      ]
     },
     "execution_count": 80,
     "metadata": {},
     "output_type": "execute_result"
    },
    {
     "data": {
      "image/png": "[encoded data removed]",
      "text/plain": [
       "<Figure size 640x480 with 1 Axes>"
      ]
     },
     "metadata": {},
     "output_type": "display_data"
    }
   ],
   "source": [
    "ex1.head()\n",
    "ex1.plot.scatter(x=0,y=1)"
   ]
  },
  {
   "cell_type": "code",
   "execution_count": 83,
   "metadata": {},
   "outputs": [],
   "source": [
    "data = ex1.iloc[:,0].values\n",
    "y = ex1.iloc[:,1].values\n",
    "\n",
    "if len(data.shape) < 2:\n",
    "    data = data.reshape(-1,1)\n",
    "    \n",
    "ones = np.ones(data.shape[0])\n",
    "X = np.c_[data,ones]"
   ]
  },
  {
   "cell_type": "code",
   "execution_count": 84,
   "metadata": {},
   "outputs": [],
   "source": [
    "def NormalEquation(X,y):\n",
    "    transfer = X.T\n",
    "    return np.dot(np.dot(np.linalg.pinv(np.dot(transfer,X)) , transfer) , y)"
   ]
  },
  {
   "cell_type": "code",
   "execution_count": 85,
   "metadata": {},
   "outputs": [
    {
     "data": {
      "text/plain": [
       "array([ 1.19303364, -3.89578088])"
      ]
     },
     "execution_count": 85,
     "metadata": {},
     "output_type": "execute_result"
    }
   ],
   "source": [
    "theta = NormalEquation(X,y)\n",
    "theta"
   ]
  },
  {
   "cell_type": "code",
   "execution_count": 86,
   "metadata": {},
   "outputs": [
    {
     "data": {
      "text/plain": [
       "[<matplotlib.lines.Line2D at 0x22170ac86d0>]"
      ]
     },
     "execution_count": 86,
     "metadata": {},
     "output_type": "execute_result"
    },
    {
     "data": {
      "image/png": "[encoded data removed]",
      "text/plain": [
       "<Figure size 640x480 with 1 Axes>"
      ]
     },
     "metadata": {},
     "output_type": "display_data"
    }
   ],
   "source": [
    "def predect(test_data,theta):\n",
    "    ones = np.ones(test_data.shape[0])\n",
    "    test_data = np.c_[test_data,ones]\n",
    "    return np.dot(test_data,theta)\n",
    "\n",
    "plt.scatter(data,y, alpha=.8, color='navy')\n",
    "y_pred = predect(np.arange(30),theta)\n",
    "plt.plot(y_pred,color='red')"
   ]
  },
  {
   "cell_type": "code",
   "execution_count": 87,
   "metadata": {},
   "outputs": [],
   "source": [
    "def featureNormalize(X):\n",
    "    (m,n) = X.shape\n",
    "    X_norm = X\n",
    "    mu = np.zeros(n)\n",
    "    sigma = np.zeros(n)\n",
    "\n",
    "    for i in range(n):\n",
    "        \n",
    "        mu[i] = np.mean(X[:,i])\n",
    "        sigma[i] = np.std(X[:,i])\n",
    "\n",
    "        X_norm[:,i] = (X_norm[:,i]-mu[i])/sigma[i]\n",
    "        \n",
    "    return X_norm\n",
    "\n",
    "\n",
    "data_Normalize = featureNormalize(data)\n",
    "\n",
    "ones = np.ones(data.shape[0])\n",
    "X = np.c_[data_Normalize,ones]"
   ]
  },
  {
   "cell_type": "code",
   "execution_count": 89,
   "metadata": {},
   "outputs": [],
   "source": [
    "def computeCost(X, y, theta):\n",
    "    return np.sum((np.dot(X,theta) -y)**2)/(2*len(y))"
   ]
  },
  {
   "cell_type": "code",
   "execution_count": 90,
   "metadata": {},
   "outputs": [],
   "source": [
    "def gradientDescent(X, y, theta, alpha, num_iters):\n",
    "    m = len(y)\n",
    "    J_history = np.zeros(num_iters)\n",
    "\n",
    "    theta_len = len(theta)\n",
    "\n",
    "    for num_iter in range(num_iters):\n",
    "        theta = theta - (alpha/m)*np.dot(X.T,(np.dot(X,theta).reshape(-1)-y))\n",
    "        J_history[num_iter] = computeCost(X, y, theta)\n",
    "        \n",
    "    return theta, J_history"
   ]
  },
  {
   "cell_type": "code",
   "execution_count": 91,
   "metadata": {},
   "outputs": [
    {
     "name": "stdout",
     "output_type": "stream",
     "text": [
      "[4.5105935  5.73431935]\n"
     ]
    },
    {
     "data": {
      "text/plain": [
       "[<matplotlib.lines.Line2D at 0x22170aea550>]"
      ]
     },
     "execution_count": 91,
     "metadata": {},
     "output_type": "execute_result"
    },
    {
     "data": {
      "image/png": "[encoded data removed]",
      "text/plain": [
       "<Figure size 640x480 with 1 Axes>"
      ]
     },
     "metadata": {},
     "output_type": "display_data"
    }
   ],
   "source": [
    "alpha = 0.01\n",
    "num_iters = 400\n",
    "theta = np.zeros(data.shape[1]+1)\n",
    "\n",
    "theta, J_history = gradientDescent(X, y, theta, alpha, num_iters)\n",
    "print(theta)\n",
    "plt.plot(J_history)"
   ]
  },
  {
   "cell_type": "code",
   "execution_count": 92,
   "metadata": {},
   "outputs": [
    {
     "data": {
      "text/plain": [
       "[<matplotlib.lines.Line2D at 0x22170b58a00>]"
      ]
     },
     "execution_count": 92,
     "metadata": {},
     "output_type": "execute_result"
    },
    {
     "data": {
      "image/png": "[encoded data removed]",
      "text/plain": [
       "<Figure size 640x480 with 1 Axes>"
      ]
     },
     "metadata": {},
     "output_type": "display_data"
    }
   ],
   "source": [
    "def predect(test_data,theta):\n",
    "    ones = np.ones(test_data.shape[0])\n",
    "    test_data = np.c_[test_data,ones]\n",
    "    return np.dot(test_data,theta)\n",
    "\n",
    "plt.scatter(data,y, alpha=.8, color='navy')\n",
    "y_pred = predect(np.arange(5),theta)\n",
    "plt.plot(y_pred,color='red')"
   ]
  },
  {
   "cell_type": "code",
   "execution_count": 93,
   "metadata": {},
   "outputs": [],
   "source": [
    "from sklearn import linear_model\n",
    "reg = linear_model.LinearRegression()\n",
    "\n",
    "model = reg.fit(data,y)"
   ]
  }
 ],
 "metadata": {
  "kernelspec": {
   "display_name": "Python 3.8.8 64-bit",
   "language": "python",
   "name": "python3"
  },
  "language_info": {
   "codemirror_mode": {
    "name": "ipython",
    "version": 3
   },
   "file_extension": ".py",
   "mimetype": "text/x-python",
   "name": "python",
   "nbconvert_exporter": "python",
   "pygments_lexer": "ipython3",
   "version": "3.8.8 (tags/v3.8.8:024d805, Feb 19 2021, 13:18:16) [MSC v.1928 64 bit (AMD64)]"
  },
  "orig_nbformat": 4,
  "vscode": {
   "interpreter": {
    "hash": "a2af592d5cfbf0feb447b1d829a49a678c512958e85cc782dee0f37a21ed0aa6"
   }
  }
 },
 "nbformat": 4,
 "nbformat_minor": 2
}
