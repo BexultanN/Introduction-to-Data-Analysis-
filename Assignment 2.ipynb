{
 "cells": [
  {
   "cell_type": "markdown",
   "metadata": {},
   "source": [
    "# Assignment 2"
   ]
  },
  {
   "cell_type": "markdown",
   "metadata": {},
   "source": [
    "## Exercise 2 - loops\n",
    "- Write a Python program to guess a number between 1 to 9. \n",
    "Note : User is prompted to enter a guess. If the user guesses wrong then the prompt appears again until the guess is correct, on successful guess, user will get a \"Well guessed!\" message, and the program will exit."
   ]
  },
  {
   "cell_type": "code",
   "execution_count": 7,
   "metadata": {},
   "outputs": [
    {
     "ename": "ValueError",
     "evalue": "invalid literal for int() with base 10: ''",
     "output_type": "error",
     "traceback": [
      "\u001b[1;31m---------------------------------------------------------------------------\u001b[0m",
      "\u001b[1;31mValueError\u001b[0m                                Traceback (most recent call last)",
      "Cell \u001b[1;32mIn [7], line 4\u001b[0m\n\u001b[0;32m      2\u001b[0m i \u001b[38;5;241m=\u001b[39m \u001b[38;5;241m0\u001b[39m\n\u001b[0;32m      3\u001b[0m \u001b[38;5;28;01mwhile\u001b[39;00m i\u001b[38;5;241m!=\u001b[39mx:\n\u001b[1;32m----> 4\u001b[0m   i \u001b[38;5;241m=\u001b[39m \u001b[38;5;28mint\u001b[39m(\u001b[38;5;28minput\u001b[39m(\u001b[38;5;124m'\u001b[39m\u001b[38;5;124menter your number: \u001b[39m\u001b[38;5;124m'\u001b[39m)) \n\u001b[0;32m      5\u001b[0m \u001b[38;5;28mprint\u001b[39m(\u001b[38;5;124m'\u001b[39m\u001b[38;5;124mwell guessed\u001b[39m\u001b[38;5;124m'\u001b[39m)\n",
      "\u001b[1;31mValueError\u001b[0m: invalid literal for int() with base 10: ''"
     ]
    }
   ],
   "source": [
    "x = 7\n",
    "i = 0\n",
    "while i!=x:\n",
    "  i = int(input('enter your number: ')) \n",
    "print('well guessed') "
   ]
  },
  {
   "cell_type": "markdown",
   "metadata": {},
   "source": [
    "## Exercise 3 - loops\n",
    "- Write a Python program to construct the following pattern, using a nested for loop.\n",
    "\n",
    "![image.png](data:image/png;base64,iVBORw0KGgoAAAANSUhEUgAAAH8AAADyCAYAAABkkxoVAAAAAXNSR0IArs4c6QAAAARnQU1BAACxjwv8YQUAAAAJcEhZcwAAEnQAABJ0Ad5mH3gAAAVCSURBVHhe7dsxaJxlHMfxv2a4WvCKQhIoZjhxziDS0qEWhJC1Q4jgYYdsIbMYLahQDKdQOthO3bLZUR2MLi0ObpXgJNahximDJVkkoJy5vtch2Fae98379p73+/0M6d01HIFveJ83cL/ntre3h/Pz8yGe58f/Csj4YMYHMz6Y8cGMD2Z8MOODGR/M+GDGBzM+mPHBjA9WLf5PN+LVS7diZ/xUeUmP/+B23Bhsxc4/h49fno5z3RNx4vDhwW+3Yv2LH+Pg4TcpB8nxD/YPYu/nj2Lp0tW4/WdE95VO7H79cfQXrsbO3n7sjn4plIfRJ3nS7Q1//erT4TtnesNerzd8c+368Ntf9sb/p1yUPvM7L85E9+To0XR0pjrRfan78HXlI/2yf38rNvoLsXRzNy5uDGKxfzkG5+/F+tkLsfLoXkBZSI7f6Rx+eeOz+Gbzw1g8tR9/PIiYWxrEd9+vxUynGzNTxfdp8lX79O7oT71r03Fncznmxi8pH350G6z0DZ/yZ3ww44MZH8z4YMYHMz6Y8cGMD2Z8MOODGR/M+GDGBzM+mPHBqsWva7ThGKQR6fHrGm04Bmlccvy6RhuOQZ6ByRptOAZpUukzv67RhmOQ5qRf9msabTgGaV5y/LpGG45BnoFyZ/7Y3evD3rtfDn8fPz02db2vjnC0AVb6hk/5Mz6Y8cGMD2Z8MOODGR/M+GDGBzM+mPHBjA9mfDDjgxkfzPhg1eLnNtpwDHJEevzcRhuOQZ4oOX5uow3HIE/BGG04Bnmc0md+bqMNxyD/lX7Zz2y04RjkyZLj5zbacAzyFKjRhmOQIxxtgJW+4VP+jA9mfDDjgxkfzPhgxgczPpjxwYwPZnww44MZH8z4YMYHMz5YtfiONgqZjkHS4zvaKLRgDJIc39FGoRVjEEcbVeQ9Bil95jvaKOQ8BplaXV39ZHZ2dvz0/41GEJ+vrcSVu3Ox+sFy/P3CW/H+me147+0r8cNfp+P1c6/FqRK/Ur5v85J/PEcbhVaMQRxtHINMxyCONsAm/FRSnYwPZnww44MZH8z4YMYHMz6Y8cGMD2Z8MOODGR/M+GDGBzM+WLX4jisKmY5B0uM7rii0YAySHN9xRaEVYxBHG1XkPQYpfeY7rijkPAZxtAEegyS/jeOKQivGII42jkGmYxBHG2DHdHooR8YHMz6Y8cGMD2Z8MOODGR/M+GDGBzM+mPHBjA9mfDDjgxkfrFp8RxCFmscVdUmP7wii0OC4oi7J8R1BFBodV9TF0UYVzYwr6lL6zHcEUWhiXFEXRxsZjCvqkvzjOYIoNDquqIujjWNQ87iiLo42wCb8VFKdjA9mfDDjgxkfzPhgxgczPpjxwYwPZnww44MZH8z4YMYHMz5YtfiOK7KWHt9xRWskx3dc0SKONrhKn/mOK/KXftm/vxUb/YVYurkbFzcGsdi/HIPz92L97IVYeXS2lpDb+7ZBcnzHFS3iaIPL0QZY6Rs+5c/4YMYHMz6Y8cGMD2Z8MOODGR/M+GDGBzM+mPHBjA9mfDDjg1WL77gia+nxHVe0RnJ8xxUtwhht6HFKn/mOK/KXftl3XNEayfEdV7QIarShIxxtgJW+4VP+jA9mfDDjgxkfzPhgxgczPpjxwYwPZnww44MZH8z4YMYHMz5YtfiOK7KWHt9xRWskx3dc0SKTNdpQk0qf+Y4r8pd+2Xdc0RrJ8R1XtEe1z+2P/tS7Nh13NpdjbvyS8uFoA6z0DZ/yZ3ww44MZH8z4YMYHMz6Y8cGMD2Z8MOODGR/M+GDGBzM+mPHBjA9mfKyIfwEWOhXqS7sW7QAAAABJRU5ErkJggg==)"
   ]
  },
  {
   "cell_type": "code",
   "execution_count": 12,
   "metadata": {},
   "outputs": [
    {
     "name": "stdout",
     "output_type": "stream",
     "text": [
      "\n",
      "* \n",
      "* * \n",
      "* * * \n",
      "* * * * \n",
      "* * * * * \n",
      "* * * * \n",
      "* * * \n",
      "* * \n",
      "* \n"
     ]
    }
   ],
   "source": [
    "x=5;\n",
    "for i in range(x): #n=5\n",
    "    for y in range(i): #i=1 \n",
    "        print ('* ', end=\"\") #j=0\n",
    "    print('') # i=0\n",
    "#algorithm repeats before n=5, i=4, j=3\n",
    "#then output is \n",
    "    #           * \n",
    "    #           * * \n",
    "    #           * * * \n",
    "    #           * * * *\n",
    "\n",
    "for i in range(x,0,-1): #n=5, i=4, j=3\n",
    "    for y in range(i): #n=5, i=5, j=3\n",
    "        print('* ', end=\"\") #n=5, i=5, j=0\n",
    "    print('')\n",
    "    #algorithm repeats before n=5, i=1, j=0\n",
    "#then output is \n",
    "#               * * * * *\n",
    "#               * * * * \n",
    "#               * * * \n",
    "#               * * \n",
    "#               *\n",
    "\n"
   ]
  },
  {
   "cell_type": "markdown",
   "metadata": {},
   "source": [
    "## Exercise 4 - loops\n",
    "- Write a Python program that accepts a word from the user and reverse it. "
   ]
  },
  {
   "cell_type": "code",
   "execution_count": 19,
   "metadata": {},
   "outputs": [
    {
     "name": "stdout",
     "output_type": "stream",
     "text": [
      "atad"
     ]
    }
   ],
   "source": [
    "word = input(\"Enter a word: \") \\\n",
    "\n",
    "for char in range(len(word) - 1, -1, -1): #1)data #char2 3)output:a 4)output:at 6)output:ata 7) output: atad\n",
    "  print(word[char], end=\"\") #2)char3 4)#char2 5)char1 7)char0"
   ]
  },
  {
   "cell_type": "markdown",
   "metadata": {},
   "source": [
    "## Exercise 5 - loops\n",
    "- Write a Python program to count the number of even and odd numbers from a series of numbers.\n",
    "\n",
    "- Sample numbers : numbers = (1, 2, 3, 4, 5, 6, 7, 8, 9) \n",
    "\n",
    "- Expected Output :\n",
    "\n",
    "Number of even numbers : 5\n",
    "Number of odd numbers : 4"
   ]
  },
  {
   "cell_type": "code",
   "execution_count": 48,
   "metadata": {},
   "outputs": [
    {
     "name": "stdout",
     "output_type": "stream",
     "text": [
      "Number of even numbers: 5\n",
      "Number of odd numbers: 4\n"
     ]
    }
   ],
   "source": [
    "numbers = (1, 2, 3, 4, 5, 6, 7, 8, 9) \n",
    "odd = 0\n",
    "even = 0\n",
    "for x in numbers:\n",
    "        if not x % 2:\n",
    "    \t     even+=1\n",
    "        else:\n",
    "    \t     odd+=1\n",
    "print(\"Number of even numbers:\",odd)\n",
    "print(\"Number of odd numbers:\",even)"
   ]
  },
  {
   "cell_type": "markdown",
   "metadata": {},
   "source": [
    "## Exercise 6 - functions\n",
    "- Write a Python function to find the Max of three numbers"
   ]
  },
  {
   "cell_type": "code",
   "execution_count": 49,
   "metadata": {},
   "outputs": [
    {
     "name": "stdout",
     "output_type": "stream",
     "text": [
      "6\n"
     ]
    }
   ],
   "source": [
    "def maximum(a, b, c):\n",
    "\n",
    "\tif (a >= b) and (a >= c):\n",
    "\t\tlargest = a\n",
    "\n",
    "\telif (b >= a) and (b >= c):\n",
    "\t\tlargest = b\n",
    "\telse:\n",
    "\t\tlargest = c\n",
    "\t\t\n",
    "\treturn largest\n",
    "\n",
    "a = input(\"Enter a fisrt Number: \")\n",
    "b = input(\"Enter a second Number: \")\n",
    "c = input(\"Enter a third Number: \")\n",
    "print(maximum(a, b, c))\n"
   ]
  },
  {
   "cell_type": "markdown",
   "metadata": {},
   "source": [
    "## Exercise 7 - functions\n",
    "- Write a Python function to calculate the factorial of a number (a non-negative integer). The function accepts the number as an argument"
   ]
  },
  {
   "cell_type": "code",
   "execution_count": 12,
   "metadata": {},
   "outputs": [
    {
     "name": "stdout",
     "output_type": "stream",
     "text": [
      "120\n"
     ]
    }
   ],
   "source": [
    "def factorial(number):\n",
    "    if number == 0:\n",
    "        return 1\n",
    "    else:\n",
    "        return number * factorial(number-1)\n",
    "number=int(input(\"Enter a number: \"))\n",
    "print(factorial(number))"
   ]
  },
  {
   "cell_type": "markdown",
   "metadata": {},
   "source": [
    "## Exercise 8 - functions\n",
    "- Write a Python function to check whether a number falls in a given range."
   ]
  },
  {
   "cell_type": "code",
   "execution_count": 1,
   "metadata": {},
   "outputs": [
    {
     "name": "stdout",
     "output_type": "stream",
     "text": [
      "Yeap.50 is in the given range\n"
     ]
    }
   ],
   "source": [
    "def check(number):\n",
    "    if number in range(0,70):\n",
    "        print( \"Yeap.%s is in the given range\"%str(number))\n",
    "    else :\n",
    "        print(\"Nope.The number goes beyond the outer space of the given range\")\n",
    "number=int(input(\"Enter a number: \"))\n",
    "check(number)"
   ]
  },
  {
   "cell_type": "markdown",
   "metadata": {},
   "source": [
    "## Exercise 9 - functions\n",
    "-Write a Python function that takes a list and returns a new list with unique elements of the first list."
   ]
  },
  {
   "cell_type": "code",
   "execution_count": 9,
   "metadata": {},
   "outputs": [
    {
     "name": "stdout",
     "output_type": "stream",
     "text": [
      "[1, 2, 3]\n"
     ]
    }
   ],
   "source": [
    "def unique_list(y):\n",
    "  number = []\n",
    "  for x in y:\n",
    "    if x not in number:\n",
    "      number.append(x)\n",
    "  return number\n",
    "\n",
    "print(unique_list([1,1,1,1,1,2,3,3,])) "
   ]
  },
  {
   "cell_type": "markdown",
   "metadata": {},
   "source": [
    "## Exercise 10 - functions\n",
    "- Write a Python function that takes a number as a parameter and check the number is prime or not.\n",
    "\n",
    "- Note : A prime number (or a prime) is a natural number greater than 1 and that has no positive divisors other than 1 and itself."
   ]
  },
  {
   "cell_type": "code",
   "execution_count": 2,
   "metadata": {},
   "outputs": [
    {
     "name": "stdout",
     "output_type": "stream",
     "text": [
      "False\n"
     ]
    }
   ],
   "source": [
    "def prime(number):\n",
    "    if (number==1):\n",
    "        return False\n",
    "    elif (number==2):\n",
    "        return True;\n",
    "    else:\n",
    "        for i in range(2,number):\n",
    "            if(number % i==0):\n",
    "                return False\n",
    "        return True\n",
    "number=int(input(\"Enter a number: \"))             \n",
    "print(prime(number))"
   ]
  }
 ],
 "metadata": {
  "kernelspec": {
   "display_name": "Python 3.8.8 64-bit",
   "language": "python",
   "name": "python3"
  },
  "language_info": {
   "codemirror_mode": {
    "name": "ipython",
    "version": 3
   },
   "file_extension": ".py",
   "mimetype": "text/x-python",
   "name": "python",
   "nbconvert_exporter": "python",
   "pygments_lexer": "ipython3",
   "version": "3.8.8"
  },
  "orig_nbformat": 4,
  "vscode": {
   "interpreter": {
    "hash": "a2af592d5cfbf0feb447b1d829a49a678c512958e85cc782dee0f37a21ed0aa6"
   }
  }
 },
 "nbformat": 4,
 "nbformat_minor": 2
}
