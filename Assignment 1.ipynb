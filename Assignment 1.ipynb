{
 "cells": [
  {
   "cell_type": "markdown",
   "metadata": {},
   "source": [
    "# Assignment 1\n"
   ]
  },
  {
   "cell_type": "markdown",
   "metadata": {},
   "source": [
    "### Exercise 1 - Modules\n",
    "\n",
    "- Learn about the module *random*\n",
    "\n",
    "- Write a Python program to generate random value between two integers (inclusive) and a random multiple of 7 between 0 and 70.\n",
    "    Напишите программу Python для генерации случайного значения между двумя целыми числами (включительно) и случайным числом, кратным 7, между 0 и 70.\n",
    "\n",
    "- Use random.randint()"
   ]
  },
  {
   "cell_type": "code",
   "execution_count": 397,
   "metadata": {},
   "outputs": [
    {
     "name": "stdout",
     "output_type": "stream",
     "text": [
      "28\n",
      "14\n",
      "56\n",
      "49\n",
      "56\n",
      "56\n",
      "0\n",
      "42\n",
      "70\n",
      "49\n",
      "7\n"
     ]
    }
   ],
   "source": [
    "import random\n",
    "\n",
    "numbers = [random.randint(0, 70) for _ in range(72)]\n",
    "\n",
    "for number in numbers:\n",
    "   if number % 7 ==0:\n",
    "\n",
    "       print(number)\n"
   ]
  },
  {
   "cell_type": "markdown",
   "metadata": {},
   "source": [
    "## Exercise 2 - variables\n",
    "- Write a Python program to get a string from a given string where all occurrences of its first char have been changed to '\\$', except the first char itself.\n",
    "- Sample String : 'restart'\n",
    "- Expected Result : 'resta$t'"
   ]
  },
  {
   "cell_type": "code",
   "execution_count": 405,
   "metadata": {},
   "outputs": [
    {
     "name": "stdout",
     "output_type": "stream",
     "text": [
      "resta$t\n"
     ]
    }
   ],
   "source": [
    "def change_char(str1): ##defining a function\n",
    "  char = str1[0]  ##change_char str1 \"restart\"\n",
    "  str1 = str1.replace(char, '$')\n",
    "  str1 = char + str1[1:]  ##change_char str1\"$esta$t\" char\"r\"\n",
    "  return str1 ##Return value \"resta$t\"\n",
    "print(change_char('restart'))\n"
   ]
  },
  {
   "cell_type": "markdown",
   "metadata": {},
   "source": [
    "## Exercise 3 - Strings"
   ]
  },
  {
   "cell_type": "markdown",
   "metadata": {},
   "source": [
    "- Write a Python program to get a single string from two given strings, separated by a space and swap the first two characters of each string.\n",
    "\n",
    "- Sample String : 'abc', 'xyz'\n",
    "- Expected Result : 'xyc abz'"
   ]
  },
  {
   "cell_type": "code",
   "execution_count": 413,
   "metadata": {},
   "outputs": [
    {
     "name": "stdout",
     "output_type": "stream",
     "text": [
      "xyc xyz\n"
     ]
    }
   ],
   "source": [
    "def mix(a, b):\n",
    "  a = b[:2] + a[2:] #mix \"abs\" and \"xyz\"\n",
    "  b = a[:2] + b[2:] #mix \"xyc\" and \"abz\"\n",
    "  return a + ' ' + b ##Return value\t\"xyc abz\"\n",
    "print(mix('abc', 'xyz')) "
   ]
  },
  {
   "cell_type": "markdown",
   "metadata": {},
   "source": [
    "## Exercise 3:\n",
    "- Find a greater number between two numbers\n",
    "- Input 2 numbers, output greater one"
   ]
  },
  {
   "cell_type": "code",
   "execution_count": 431,
   "metadata": {},
   "outputs": [
    {
     "name": "stdout",
     "output_type": "stream",
     "text": [
      "Second number 10.0 is greater than first number 20.0\n"
     ]
    }
   ],
   "source": [
    "first = int(input(\" Enter the first number: \"))\n",
    "second = int(input(\" Enter the second number: \"))\n",
    "\n",
    "if(first > second):\n",
    "    print(\"First number {0} is greater than second number {1}\".format(a, b))\n",
    "\n",
    "elif(second > first):\n",
    "    print(\"Second number {1} is greater than first number {0}\".format(b, a))\n",
    "else:\n",
    "    print(\"First number {0} and second number {1} are equal\".format(a, b))"
   ]
  },
  {
   "cell_type": "markdown",
   "metadata": {},
   "source": [
    "## Exercise 4\n",
    "- Write a program to calculate electricity bill\n",
    "Input: unit \n",
    "Output: price\n",
    "\n",
    "- First 100 units - no charge\n",
    "Next 100 units - 5 per unit\n",
    "After 200 units - 15 per unit"
   ]
  },
  {
   "cell_type": "code",
   "execution_count": 450,
   "metadata": {},
   "outputs": [
    {
     "name": "stdout",
     "output_type": "stream",
     "text": [
      "0\n"
     ]
    }
   ],
   "source": [
    "def bill(units):\n",
    " \n",
    "    if (units <= 100):\n",
    "      \n",
    "        return units * 0;\n",
    "     \n",
    "    elif (units <= 200):\n",
    "     \n",
    "        return ((100 * 10) +\n",
    "                (units - 100) * 5);\n",
    "\n",
    "    elif (units > 200):\n",
    "     \n",
    "        return ((100 * 0) +\n",
    "                (100 * 5) +\n",
    "                (units - 200) * 15);\n",
    "     \n",
    "    return 0;\n",
    " \n",
    "units = int(input(\" Enter units: \"));\n",
    "print(bill(units));\n",
    " "
   ]
  },
  {
   "cell_type": "markdown",
   "metadata": {},
   "source": [
    "## Exercise 5\n",
    "Write a program to calculate the grade:\n",
    "- 0-49 F\n",
    "- 50-54 D\n",
    "- 55-59 D+\n",
    "- 60-64 C-\n",
    "- 65-69 C\n",
    "- 70-74 C+\n",
    "- 75-79 B-\n",
    "- 80-84 B\n",
    "- 85-89 B+\n",
    "- 90-94 A-\n",
    "- 95-100 A"
   ]
  },
  {
   "cell_type": "code",
   "execution_count": 462,
   "metadata": {},
   "outputs": [
    {
     "name": "stdout",
     "output_type": "stream",
     "text": [
      "Grade: A\n"
     ]
    }
   ],
   "source": [
    "sub1=int(input(\"Enter marks of the first subject: \"))\n",
    "sub2=int(input(\"Enter marks of the third subject: \"))\n",
    "sub3=int(input(\"Enter marks of the fourth subject: \"))\n",
    "\n",
    "avg=(sub1+sub2+sub3)/3\n",
    "\n",
    "\n",
    "if(avg>=95):\n",
    "    print(\"Grade: A\")\n",
    "elif(avg>=94 and avg <90):\n",
    "    print(\"Grade: A-\")\n",
    "elif(avg>=89 and avg<85):\n",
    "    print(\"Grade: B+\")\n",
    "elif(avg>=84 and avg<80):\n",
    "    print(\"Grade: B\")\n",
    "elif(avg>=79 and avg<75):\n",
    "    print(\"Grade: B-\")    \n",
    "elif(avg>=74 and avg<70):\n",
    "    print(\"Grade: C+\")\n",
    "elif(avg>=69 and avg<65):\n",
    "    print(\"Grade: C\")\n",
    "elif(avg>=64 and avg<60):\n",
    "    print(\"Grade: C-\")\n",
    "elif(avg>=59 and avg<55):\n",
    "    print(\"Grade: D+\")\n",
    "elif(avg>=54 and avg<50):\n",
    "    print(\"Grade: D\")\n",
    "else:\n",
    "    print(\"Grade: F\")"
   ]
  }
 ],
 "metadata": {
  "interpreter": {
   "hash": "5ccf58e4a585ad6bff9fcd2aa03740726901af6ed2c1ce30cfbc34369fc213ce"
  },
  "kernelspec": {
   "display_name": "Python 3.8.8 64-bit",
   "language": "python",
   "name": "python3"
  },
  "language_info": {
   "codemirror_mode": {
    "name": "ipython",
    "version": 3
   },
   "file_extension": ".py",
   "mimetype": "text/x-python",
   "name": "python",
   "nbconvert_exporter": "python",
   "pygments_lexer": "ipython3",
   "version": "3.8.8"
  },
  "orig_nbformat": 4
 },
 "nbformat": 4,
 "nbformat_minor": 2
}
