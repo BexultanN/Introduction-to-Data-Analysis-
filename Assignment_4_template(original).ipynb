{
  "cells": [
    {
      "cell_type": "markdown",
      "metadata": {
        "id": "jP66G3cq-1w6"
      },
      "source": [
        "# <center>Assignment 4"
      ]
    },
    {
      "cell_type": "code",
      "execution_count": 1,
      "metadata": {
        "colab": {
          "base_uri": "https://localhost:8080/",
          "height": 133
        },
        "id": "_-NyeE1J-1xA",
        "outputId": "73d5eb8b-e6ba-4bbf-803d-e3c1eb77b7b3"
      },
      "outputs": [
        {
          "ename": "SyntaxError",
          "evalue": "ignored",
          "output_type": "error",
          "traceback": [
            "\u001b[0;36m  File \u001b[0;32m\"<ipython-input-1-01a95e7c5727>\"\u001b[0;36m, line \u001b[0;32m1\u001b[0m\n\u001b[0;31m    Deadline: Friday 23:59\u001b[0m\n\u001b[0m                      ^\u001b[0m\n\u001b[0;31mSyntaxError\u001b[0m\u001b[0;31m:\u001b[0m invalid syntax\n"
          ]
        }
      ],
      "source": [
        "Deadline: Friday 23:59"
      ]
    },
    {
      "cell_type": "markdown",
      "metadata": {
        "id": "Y6tU5lzh-1xC"
      },
      "source": [
        "Name:\n",
        "\n"
      ]
    },
    {
      "cell_type": "markdown",
      "metadata": {
        "id": "fQ6KvOo2-1xC"
      },
      "source": [
        "**In this assignment you need to work with data from the [worldometers](https://www.worldometers.info/coronavirus/) website. I want you to scrape all 215 countries information about coronavirus cases from the website.** \n",
        "The data has to include:\n",
        "- `Country name`\n",
        "- `Total cases`\n",
        "- `Total deaths`\n",
        "- `Total recovered`\n",
        "- `Active cases`\n",
        "- `New cases`\n",
        "- `New deaths`\n",
        "- `Total tests`\n",
        "- `Population`"
      ]
    },
    {
      "cell_type": "markdown",
      "metadata": {
        "id": "4DnMfoD1-1xD"
      },
      "source": [
        "**You need to use beautiful soup 4 and regular expressions for this task. Save results in csv file and read this dataset**"
      ]
    },
    {
      "cell_type": "markdown",
      "metadata": {
        "id": "qmj_SreZ-1xD"
      },
      "source": [
        "Run cell below, if you don't have bs4 library"
      ]
    },
    {
      "cell_type": "code",
      "execution_count": 2,
      "metadata": {
        "id": "gkuz8VJi-1xE"
      },
      "outputs": [
        {
          "name": "stderr",
          "output_type": "stream",
          "text": [
            "\"pip\" �� ���� ����७��� ��� ���譥�\n",
            "��������, �ᯮ��塞�� �ணࠬ��� ��� ������ 䠩���.\n"
          ]
        }
      ],
      "source": [
        "!pip install BeautifulSoup4"
      ]
    },
    {
      "cell_type": "code",
      "execution_count": 2,
      "metadata": {
        "id": "co69bqxq-1xF"
      },
      "outputs": [
        {
          "data": {
            "text/html": [
              "<div>\n",
              "<style scoped>\n",
              "    .dataframe tbody tr th:only-of-type {\n",
              "        vertical-align: middle;\n",
              "    }\n",
              "\n",
              "    .dataframe tbody tr th {\n",
              "        vertical-align: top;\n",
              "    }\n",
              "\n",
              "    .dataframe thead th {\n",
              "        text-align: right;\n",
              "    }\n",
              "</style>\n",
              "<table border=\"1\" class=\"dataframe\">\n",
              "  <thead>\n",
              "    <tr style=\"text-align: right;\">\n",
              "      <th></th>\n",
              "      <th>Country or Continents name</th>\n",
              "      <th>Total cases</th>\n",
              "      <th>Total deaths</th>\n",
              "      <th>Total recovered</th>\n",
              "      <th>Active cases</th>\n",
              "      <th>New cases</th>\n",
              "      <th>New deaths</th>\n",
              "      <th>Total tests</th>\n",
              "      <th>Population</th>\n",
              "    </tr>\n",
              "  </thead>\n",
              "  <tbody>\n",
              "    <tr>\n",
              "      <th>0</th>\n",
              "      <td>North America</td>\n",
              "      <td>117 073 602</td>\n",
              "      <td>1 545 282</td>\n",
              "      <td>112 235 099</td>\n",
              "      <td>3 293 221</td>\n",
              "      <td>+1 198</td>\n",
              "      <td>17.0</td>\n",
              "      <td>NaN</td>\n",
              "      <td>NaN</td>\n",
              "    </tr>\n",
              "    <tr>\n",
              "      <th>1</th>\n",
              "      <td>Asia</td>\n",
              "      <td>191 432 482</td>\n",
              "      <td>1 483 208</td>\n",
              "      <td>185 494 398</td>\n",
              "      <td>4 454 876</td>\n",
              "      <td>+141 141</td>\n",
              "      <td>204.0</td>\n",
              "      <td>NaN</td>\n",
              "      <td>NaN</td>\n",
              "    </tr>\n",
              "    <tr>\n",
              "      <th>2</th>\n",
              "      <td>Europe</td>\n",
              "      <td>230 709 419</td>\n",
              "      <td>1 927 871</td>\n",
              "      <td>223 241 085</td>\n",
              "      <td>5 540 463</td>\n",
              "      <td>+85 785</td>\n",
              "      <td>224.0</td>\n",
              "      <td>NaN</td>\n",
              "      <td>NaN</td>\n",
              "    </tr>\n",
              "    <tr>\n",
              "      <th>3</th>\n",
              "      <td>South America</td>\n",
              "      <td>64 226 432</td>\n",
              "      <td>1 331 153</td>\n",
              "      <td>62 539 936</td>\n",
              "      <td>355 343</td>\n",
              "      <td>+4 941</td>\n",
              "      <td>5.0</td>\n",
              "      <td>NaN</td>\n",
              "      <td>NaN</td>\n",
              "    </tr>\n",
              "    <tr>\n",
              "      <th>4</th>\n",
              "      <td>Oceania</td>\n",
              "      <td>12 458 127</td>\n",
              "      <td>21 205</td>\n",
              "      <td>12 302 490</td>\n",
              "      <td>134 432</td>\n",
              "      <td>+1 237</td>\n",
              "      <td>10.0</td>\n",
              "      <td>NaN</td>\n",
              "      <td>NaN</td>\n",
              "    </tr>\n",
              "    <tr>\n",
              "      <th>...</th>\n",
              "      <td>...</td>\n",
              "      <td>...</td>\n",
              "      <td>...</td>\n",
              "      <td>...</td>\n",
              "      <td>...</td>\n",
              "      <td>...</td>\n",
              "      <td>...</td>\n",
              "      <td>...</td>\n",
              "      <td>...</td>\n",
              "    </tr>\n",
              "    <tr>\n",
              "      <th>211</th>\n",
              "      <td>Liberia</td>\n",
              "      <td>7 985</td>\n",
              "      <td>294</td>\n",
              "      <td>7 681</td>\n",
              "      <td>10</td>\n",
              "      <td>NaN</td>\n",
              "      <td>NaN</td>\n",
              "      <td>139 824</td>\n",
              "      <td>5 328 175</td>\n",
              "    </tr>\n",
              "    <tr>\n",
              "      <th>212</th>\n",
              "      <td>Sierra Leone</td>\n",
              "      <td>7 752</td>\n",
              "      <td>126</td>\n",
              "      <td>NaN</td>\n",
              "      <td>NaN</td>\n",
              "      <td>NaN</td>\n",
              "      <td>NaN</td>\n",
              "      <td>259 958</td>\n",
              "      <td>8 346 080</td>\n",
              "    </tr>\n",
              "    <tr>\n",
              "      <th>213</th>\n",
              "      <td>Chad</td>\n",
              "      <td>7 605</td>\n",
              "      <td>193</td>\n",
              "      <td>4 874</td>\n",
              "      <td>2 538</td>\n",
              "      <td>NaN</td>\n",
              "      <td>NaN</td>\n",
              "      <td>191 341</td>\n",
              "      <td>17 498 507</td>\n",
              "    </tr>\n",
              "    <tr>\n",
              "      <th>214</th>\n",
              "      <td>British Virgin Islands</td>\n",
              "      <td>7 305</td>\n",
              "      <td>64</td>\n",
              "      <td>NaN</td>\n",
              "      <td>NaN</td>\n",
              "      <td>NaN</td>\n",
              "      <td>NaN</td>\n",
              "      <td>107 339</td>\n",
              "      <td>30 689</td>\n",
              "    </tr>\n",
              "    <tr>\n",
              "      <th>215</th>\n",
              "      <td>St. Vincent Grenadines</td>\n",
              "      <td>7 112</td>\n",
              "      <td>115</td>\n",
              "      <td>6 641</td>\n",
              "      <td>356</td>\n",
              "      <td>NaN</td>\n",
              "      <td>NaN</td>\n",
              "      <td>100 856</td>\n",
              "      <td>111 741</td>\n",
              "    </tr>\n",
              "  </tbody>\n",
              "</table>\n",
              "<p>216 rows × 9 columns</p>\n",
              "</div>"
            ],
            "text/plain": [
              "    Country or Continents name  Total cases Total deaths Total recovered  \\\n",
              "0                North America  117 073 602    1 545 282     112 235 099   \n",
              "1                         Asia  191 432 482    1 483 208     185 494 398   \n",
              "2                       Europe  230 709 419    1 927 871     223 241 085   \n",
              "3                South America   64 226 432    1 331 153      62 539 936   \n",
              "4                      Oceania   12 458 127       21 205      12 302 490   \n",
              "..                         ...          ...          ...             ...   \n",
              "211                    Liberia        7 985         294            7 681   \n",
              "212               Sierra Leone        7 752         126              NaN   \n",
              "213                       Chad        7 605         193            4 874   \n",
              "214     British Virgin Islands        7 305          64              NaN   \n",
              "215     St. Vincent Grenadines        7 112         115            6 641   \n",
              "\n",
              "    Active cases New cases  New deaths Total tests   Population  \n",
              "0      3 293 221    +1 198        17.0         NaN          NaN  \n",
              "1      4 454 876  +141 141       204.0         NaN          NaN  \n",
              "2      5 540 463   +85 785       224.0         NaN          NaN  \n",
              "3        355 343    +4 941         5.0         NaN          NaN  \n",
              "4        134 432    +1 237        10.0         NaN          NaN  \n",
              "..           ...       ...         ...         ...          ...  \n",
              "211           10       NaN         NaN     139 824   5 328 175   \n",
              "212          NaN       NaN         NaN     259 958   8 346 080   \n",
              "213        2 538       NaN         NaN     191 341  17 498 507   \n",
              "214          NaN       NaN         NaN     107 339      30 689   \n",
              "215          356       NaN         NaN     100 856     111 741   \n",
              "\n",
              "[216 rows x 9 columns]"
            ]
          },
          "execution_count": 2,
          "metadata": {},
          "output_type": "execute_result"
        }
      ],
      "source": [
        "from itertools import count\n",
        "from bs4 import BeautifulSoup\n",
        "import requests\n",
        "import bs4\n",
        "import csv\n",
        "import pandas as pd\n",
        "\n",
        "page = requests.get('https://www.worldometers.info/coronavirus/#countries')\n",
        "soup = BeautifulSoup(page.text, 'lxml')\n",
        "\n",
        "rows = soup.find('table', {'id':'main_table_countries_today'}).find('tbody').find_all('tr')\n",
        "\n",
        "countries_list=[]\n",
        "\n",
        "for row in rows:\n",
        "    dic={}\n",
        "\n",
        "    dic['Country or Continents name'] = row.find_all('td')[1].text.replace('\\n', '')\n",
        "    dic['Total cases'] = row.find_all('td')[2].text.replace(',', ' ')\n",
        "    dic['Total deaths'] = row.find_all('td')[4].text.replace(',', ' ')\n",
        "    dic['Total recovered'] = row.find_all('td')[6].text.replace(',', ' ')\n",
        "    dic['Active cases'] = row.find_all('td')[8].text.replace(',', ' ')\n",
        "    dic['New cases'] = row.find_all('td')[3].text.replace(',', ' ')\n",
        "    dic['New deaths'] = row.find_all('td')[5].text.replace(',', ' ')\n",
        "    dic['Total tests'] = row.find_all('td')[12].text.replace(',', ' ')\n",
        "    dic['Population'] = row.find_all('td')[14].text.replace(',', ' ')\n",
        "    countries_list.append(dic)\n",
        "\n",
        "\n",
        "df = pd.DataFrame(countries_list) #.loc[0:215] if we need to see 215 countries \n",
        "df.to_excel('coronavirus.xlsx', index=False)\n",
        "df.to_csv('coronavirus.csv', index=False)\n",
        "pd.read_csv('coronavirus.csv')\n",
        "\n",
        "# continents are also displayed in this table, I thought that there are statistics there too, but if they need to be removed, it is possible\n",
        "\n",
        "\n"
      ]
    }
  ],
  "metadata": {
    "colab": {
      "collapsed_sections": [],
      "provenance": []
    },
    "kernelspec": {
      "display_name": "Python 3.9.12 ('base')",
      "language": "python",
      "name": "python3"
    },
    "language_info": {
      "codemirror_mode": {
        "name": "ipython",
        "version": 3
      },
      "file_extension": ".py",
      "mimetype": "text/x-python",
      "name": "python",
      "nbconvert_exporter": "python",
      "pygments_lexer": "ipython3",
      "version": "3.9.12"
    },
    "vscode": {
      "interpreter": {
        "hash": "0a9d7a287c082125cd8ab69e96b728f07bad3cfa5730040593dd01dcdd5bff77"
      }
    }
  },
  "nbformat": 4,
  "nbformat_minor": 0
}
