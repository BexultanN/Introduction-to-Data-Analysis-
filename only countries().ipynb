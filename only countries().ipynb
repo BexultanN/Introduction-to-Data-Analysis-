{
  "cells": [
    {
      "cell_type": "markdown",
      "metadata": {
        "id": "jP66G3cq-1w6"
      },
      "source": [
        "# <center>Assignment 4"
      ]
    },
    {
      "cell_type": "code",
      "execution_count": 1,
      "metadata": {
        "colab": {
          "base_uri": "https://localhost:8080/",
          "height": 133
        },
        "id": "_-NyeE1J-1xA",
        "outputId": "73d5eb8b-e6ba-4bbf-803d-e3c1eb77b7b3"
      },
      "outputs": [
        {
          "ename": "SyntaxError",
          "evalue": "ignored",
          "output_type": "error",
          "traceback": [
            "\u001b[0;36m  File \u001b[0;32m\"<ipython-input-1-01a95e7c5727>\"\u001b[0;36m, line \u001b[0;32m1\u001b[0m\n\u001b[0;31m    Deadline: Friday 23:59\u001b[0m\n\u001b[0m                      ^\u001b[0m\n\u001b[0;31mSyntaxError\u001b[0m\u001b[0;31m:\u001b[0m invalid syntax\n"
          ]
        }
      ],
      "source": [
        "Deadline: Friday 23:59"
      ]
    },
    {
      "cell_type": "markdown",
      "metadata": {
        "id": "Y6tU5lzh-1xC"
      },
      "source": [
        "Name:\n",
        "\n"
      ]
    },
    {
      "cell_type": "markdown",
      "metadata": {
        "id": "fQ6KvOo2-1xC"
      },
      "source": [
        "**In this assignment you need to work with data from the [worldometers](https://www.worldometers.info/coronavirus/) website. I want you to scrape all 215 countries information about coronavirus cases from the website.** \n",
        "The data has to include:\n",
        "- `Country name`\n",
        "- `Total cases`\n",
        "- `Total deaths`\n",
        "- `Total recovered`\n",
        "- `Active cases`\n",
        "- `New cases`\n",
        "- `New deaths`\n",
        "- `Total tests`\n",
        "- `Population`"
      ]
    },
    {
      "cell_type": "markdown",
      "metadata": {
        "id": "4DnMfoD1-1xD"
      },
      "source": [
        "**You need to use beautiful soup 4 and regular expressions for this task. Save results in csv file and read this dataset**"
      ]
    },
    {
      "cell_type": "markdown",
      "metadata": {
        "id": "qmj_SreZ-1xD"
      },
      "source": [
        "Run cell below, if you don't have bs4 library"
      ]
    },
    {
      "cell_type": "code",
      "execution_count": 2,
      "metadata": {
        "id": "gkuz8VJi-1xE"
      },
      "outputs": [
        {
          "name": "stderr",
          "output_type": "stream",
          "text": [
            "\"pip\" �� ���� ����७��� ��� ���譥�\n",
            "��������, �ᯮ��塞�� �ணࠬ��� ��� ������ 䠩���.\n"
          ]
        }
      ],
      "source": [
        "!pip install BeautifulSoup4"
      ]
    },
    {
      "cell_type": "code",
      "execution_count": 11,
      "metadata": {
        "id": "co69bqxq-1xF"
      },
      "outputs": [
        {
          "data": {
            "text/html": [
              "<div>\n",
              "<style scoped>\n",
              "    .dataframe tbody tr th:only-of-type {\n",
              "        vertical-align: middle;\n",
              "    }\n",
              "\n",
              "    .dataframe tbody tr th {\n",
              "        vertical-align: top;\n",
              "    }\n",
              "\n",
              "    .dataframe thead th {\n",
              "        text-align: right;\n",
              "    }\n",
              "</style>\n",
              "<table border=\"1\" class=\"dataframe\">\n",
              "  <thead>\n",
              "    <tr style=\"text-align: right;\">\n",
              "      <th></th>\n",
              "      <th>Country name</th>\n",
              "      <th>Total cases</th>\n",
              "      <th>Total deaths</th>\n",
              "      <th>Total recovered</th>\n",
              "      <th>Active cases</th>\n",
              "      <th>New cases</th>\n",
              "      <th>New deaths</th>\n",
              "      <th>Total tests</th>\n",
              "      <th>Population</th>\n",
              "    </tr>\n",
              "  </thead>\n",
              "  <tbody>\n",
              "    <tr>\n",
              "      <th>0</th>\n",
              "      <td>USA</td>\n",
              "      <td>98 727 136</td>\n",
              "      <td>1 089 385</td>\n",
              "      <td>95 924 535</td>\n",
              "      <td>1 713 216</td>\n",
              "      <td>NaN</td>\n",
              "      <td>NaN</td>\n",
              "      <td>1 122 981 123</td>\n",
              "      <td>335 130 632</td>\n",
              "    </tr>\n",
              "    <tr>\n",
              "      <th>1</th>\n",
              "      <td>India</td>\n",
              "      <td>44 621 319</td>\n",
              "      <td>528 847</td>\n",
              "      <td>44 065 963</td>\n",
              "      <td>26 509</td>\n",
              "      <td>NaN</td>\n",
              "      <td>NaN</td>\n",
              "      <td>897 355 355</td>\n",
              "      <td>1 410 866 119</td>\n",
              "    </tr>\n",
              "    <tr>\n",
              "      <th>2</th>\n",
              "      <td>France</td>\n",
              "      <td>36 038 327</td>\n",
              "      <td>155 675</td>\n",
              "      <td>34 894 458</td>\n",
              "      <td>988 194</td>\n",
              "      <td>NaN</td>\n",
              "      <td>NaN</td>\n",
              "      <td>271 490 188</td>\n",
              "      <td>65 601 920</td>\n",
              "    </tr>\n",
              "    <tr>\n",
              "      <th>3</th>\n",
              "      <td>Brazil</td>\n",
              "      <td>34 777 993</td>\n",
              "      <td>687 076</td>\n",
              "      <td>33 937 059</td>\n",
              "      <td>153 858</td>\n",
              "      <td>NaN</td>\n",
              "      <td>NaN</td>\n",
              "      <td>63 776 166</td>\n",
              "      <td>215 995 925</td>\n",
              "    </tr>\n",
              "    <tr>\n",
              "      <th>4</th>\n",
              "      <td>Germany</td>\n",
              "      <td>34 403 129</td>\n",
              "      <td>151 095</td>\n",
              "      <td>32 809 700</td>\n",
              "      <td>1 442 334</td>\n",
              "      <td>NaN</td>\n",
              "      <td>NaN</td>\n",
              "      <td>122 332 384</td>\n",
              "      <td>84 393 119</td>\n",
              "    </tr>\n",
              "    <tr>\n",
              "      <th>...</th>\n",
              "      <td>...</td>\n",
              "      <td>...</td>\n",
              "      <td>...</td>\n",
              "      <td>...</td>\n",
              "      <td>...</td>\n",
              "      <td>...</td>\n",
              "      <td>...</td>\n",
              "      <td>...</td>\n",
              "      <td>...</td>\n",
              "    </tr>\n",
              "    <tr>\n",
              "      <th>210</th>\n",
              "      <td>Turks and Caicos</td>\n",
              "      <td>6 380</td>\n",
              "      <td>36</td>\n",
              "      <td>6 321</td>\n",
              "      <td>23</td>\n",
              "      <td>NaN</td>\n",
              "      <td>NaN</td>\n",
              "      <td>550 093</td>\n",
              "      <td>39 909</td>\n",
              "    </tr>\n",
              "    <tr>\n",
              "      <th>211</th>\n",
              "      <td>Sao Tome and Principe</td>\n",
              "      <td>6 252</td>\n",
              "      <td>77</td>\n",
              "      <td>6 159</td>\n",
              "      <td>16</td>\n",
              "      <td>NaN</td>\n",
              "      <td>NaN</td>\n",
              "      <td>29 036</td>\n",
              "      <td>228 419</td>\n",
              "    </tr>\n",
              "    <tr>\n",
              "      <th>212</th>\n",
              "      <td>Palau</td>\n",
              "      <td>5 481</td>\n",
              "      <td>6</td>\n",
              "      <td>5 462</td>\n",
              "      <td>13</td>\n",
              "      <td>NaN</td>\n",
              "      <td>NaN</td>\n",
              "      <td>64 681</td>\n",
              "      <td>18 290</td>\n",
              "    </tr>\n",
              "    <tr>\n",
              "      <th>213</th>\n",
              "      <td>St. Barth</td>\n",
              "      <td>5 302</td>\n",
              "      <td>6</td>\n",
              "      <td>NaN</td>\n",
              "      <td>NaN</td>\n",
              "      <td>NaN</td>\n",
              "      <td>NaN</td>\n",
              "      <td>78 646</td>\n",
              "      <td>9 945</td>\n",
              "    </tr>\n",
              "    <tr>\n",
              "      <th>214</th>\n",
              "      <td>Nauru</td>\n",
              "      <td>4 611</td>\n",
              "      <td>1</td>\n",
              "      <td>4 605</td>\n",
              "      <td>5</td>\n",
              "      <td>NaN</td>\n",
              "      <td>NaN</td>\n",
              "      <td>20 509</td>\n",
              "      <td>10 979</td>\n",
              "    </tr>\n",
              "  </tbody>\n",
              "</table>\n",
              "<p>215 rows × 9 columns</p>\n",
              "</div>"
            ],
            "text/plain": [
              "              Country name Total cases Total deaths Total recovered  \\\n",
              "0                      USA  98 727 136   1 089 385       95 924 535   \n",
              "1                    India  44 621 319     528 847       44 065 963   \n",
              "2                   France  36 038 327     155 675       34 894 458   \n",
              "3                   Brazil  34 777 993     687 076       33 937 059   \n",
              "4                  Germany  34 403 129     151 095       32 809 700   \n",
              "..                     ...         ...          ...             ...   \n",
              "210       Turks and Caicos       6 380          36            6 321   \n",
              "211  Sao Tome and Principe       6 252          77            6 159   \n",
              "212                  Palau       5 481           6            5 462   \n",
              "213              St. Barth       5 302           6              NaN   \n",
              "214                  Nauru       4 611           1            4 605   \n",
              "\n",
              "    Active cases New cases  New deaths    Total tests      Population  \n",
              "0      1 713 216       NaN         NaN  1 122 981 123    335 130 632   \n",
              "1         26 509       NaN         NaN    897 355 355  1 410 866 119   \n",
              "2        988 194       NaN         NaN    271 490 188     65 601 920   \n",
              "3        153 858       NaN         NaN     63 776 166    215 995 925   \n",
              "4      1 442 334       NaN         NaN    122 332 384     84 393 119   \n",
              "..           ...       ...         ...            ...             ...  \n",
              "210           23       NaN         NaN        550 093         39 909   \n",
              "211           16       NaN         NaN         29 036        228 419   \n",
              "212           13       NaN         NaN         64 681         18 290   \n",
              "213          NaN       NaN         NaN         78 646          9 945   \n",
              "214            5       NaN         NaN         20 509         10 979   \n",
              "\n",
              "[215 rows x 9 columns]"
            ]
          },
          "execution_count": 11,
          "metadata": {},
          "output_type": "execute_result"
        }
      ],
      "source": [
        "from itertools import count\n",
        "from bs4 import BeautifulSoup\n",
        "import requests\n",
        "import bs4\n",
        "import csv\n",
        "import pandas as pd\n",
        "\n",
        "page = requests.get('https://www.worldometers.info/coronavirus/#countries')\n",
        "soup = BeautifulSoup(page.text, 'lxml')\n",
        "\n",
        "rows = soup.find('table', {'id':'main_table_countries_today'}).find('tbody').find_all('tr')\n",
        "\n",
        "countries_list=[]\n",
        "\n",
        "for row in rows:\n",
        "    dic={}\n",
        "\n",
        "    dic['Country name'] = row.find_all('td')[1].text.replace('\\n', '')\n",
        "    dic['Total cases'] = row.find_all('td')[2].text.replace(',', ' ')\n",
        "    dic['Total deaths'] = row.find_all('td')[4].text.replace(',', ' ')\n",
        "    dic['Total recovered'] = row.find_all('td')[6].text.replace(',', ' ')\n",
        "    dic['Active cases'] = row.find_all('td')[8].text.replace(',', ' ')\n",
        "    dic['New cases'] = row.find_all('td')[3].text.replace(',', ' ')\n",
        "    dic['New deaths'] = row.find_all('td')[5].text.replace(',', ' ')\n",
        "    dic['Total tests'] = row.find_all('td')[12].text.replace(',', ' ')\n",
        "    dic['Population'] = row.find_all('td')[14].text.replace(',', ' ')\n",
        "    countries_list.append(dic)\n",
        "\n",
        "\n",
        "df = pd.DataFrame(countries_list).loc[8:222] \n",
        "df.to_excel('coronavirus.xlsx', index=False)\n",
        "df.to_csv('coronavirus.csv', index=False)\n",
        "pd.read_csv('coronavirus.csv')\n",
        "\n",
        "\n",
        "\n"
      ]
    }
  ],
  "metadata": {
    "colab": {
      "collapsed_sections": [],
      "provenance": []
    },
    "kernelspec": {
      "display_name": "Python 3.9.12 ('base')",
      "language": "python",
      "name": "python3"
    },
    "language_info": {
      "codemirror_mode": {
        "name": "ipython",
        "version": 3
      },
      "file_extension": ".py",
      "mimetype": "text/x-python",
      "name": "python",
      "nbconvert_exporter": "python",
      "pygments_lexer": "ipython3",
      "version": "3.9.12"
    },
    "vscode": {
      "interpreter": {
        "hash": "0a9d7a287c082125cd8ab69e96b728f07bad3cfa5730040593dd01dcdd5bff77"
      }
    }
  },
  "nbformat": 4,
  "nbformat_minor": 0
}
